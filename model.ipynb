{
  "nbformat": 4,
  "nbformat_minor": 0,
  "metadata": {
    "colab": {
      "name": "model.ipynb",
      "version": "0.3.2",
      "provenance": [],
      "private_outputs": true,
      "collapsed_sections": []
    },
    "kernelspec": {
      "name": "python3",
      "display_name": "Python 3"
    },
    "accelerator": "GPU"
  },
  "cells": [
    {
      "metadata": {
        "id": "PZdkPJRoMzFF",
        "colab_type": "code",
        "colab": {}
      },
      "cell_type": "code",
      "source": [
        "!apt-get install -y -qq software-properties-common python-software-properties module-init-tools\n",
        "!add-apt-repository -y ppa:alessandro-strada/ppa 2>&1 > /dev/null\n",
        "!apt-get update -qq 2>&1 > /dev/null\n",
        "!apt-get -y install -qq google-drive-ocamlfuse fuse\n",
        "from google.colab import auth\n",
        "auth.authenticate_user()\n",
        "from oauth2client.client import GoogleCredentials\n",
        "creds = GoogleCredentials.get_application_default()\n",
        "import getpass\n",
        "!google-drive-ocamlfuse -headless -id={creds.client_id} -secret={creds.client_secret} < /dev/null 2>&1 | grep URL\n",
        "vcode = getpass.getpass()\n",
        "!echo {vcode} | google-drive-ocamlfuse -headless -id={creds.client_id} -secret={creds.client_secret}"
      ],
      "execution_count": 0,
      "outputs": []
    },
    {
      "metadata": {
        "id": "rAlBhIu-aqBM",
        "colab_type": "code",
        "colab": {}
      },
      "cell_type": "code",
      "source": [
        " !ls"
      ],
      "execution_count": 0,
      "outputs": []
    },
    {
      "metadata": {
        "id": "ON9rqJZrM_xm",
        "colab_type": "code",
        "colab": {}
      },
      "cell_type": "code",
      "source": [
        "!mkdir -p drive\n",
        "!google-drive-ocamlfuse drive"
      ],
      "execution_count": 0,
      "outputs": []
    },
    {
      "metadata": {
        "id": "aQ-g8NZANC8w",
        "colab_type": "code",
        "colab": {}
      },
      "cell_type": "code",
      "source": [
        "from keras import layers\n",
        "from keras.layers import Input, Dense, Activation, ZeroPadding2D, BatchNormalization, Flatten, Conv2D, Lambda,Concatenate\n",
        "from keras.layers import AveragePooling2D, MaxPooling2D, Dropout, GlobalMaxPooling2D, GlobalAveragePooling2D, Add\n",
        "from keras.models import Model\n",
        "from keras import regularizers\n",
        "from keras.preprocessing import image\n",
        "from keras.utils import layer_utils\n",
        "from keras.utils.data_utils import get_file\n",
        "from keras.applications.imagenet_utils import preprocess_input\n",
        "from keras.initializers import glorot_normal\n",
        "#import pydot\n",
        "from IPython.display import SVG\n",
        "from keras.utils.vis_utils import model_to_dot\n",
        "from keras.utils import plot_model"
      ],
      "execution_count": 0,
      "outputs": []
    },
    {
      "metadata": {
        "id": "yFXklS3nbMFp",
        "colab_type": "code",
        "colab": {}
      },
      "cell_type": "code",
      "source": [
        "import tensorflow as tf"
      ],
      "execution_count": 0,
      "outputs": []
    },
    {
      "metadata": {
        "id": "FTWUi_3BN58K",
        "colab_type": "code",
        "colab": {}
      },
      "cell_type": "code",
      "source": [
        "def two_path(X_input):\n",
        "  \n",
        "  X = Conv2D(64,(7,7),strides=(1,1),padding='valid')(X_input)\n",
        "  X = BatchNormalization()(X)\n",
        "  X1 = Conv2D(64,(7,7),strides=(1,1),padding='valid')(X_input)\n",
        "  X1 = BatchNormalization()(X1)\n",
        "  X = layers.Maximum()([X,X1])\n",
        "  X = Conv2D(64,(4,4),strides=(1,1),padding='valid',activation='relu')(X)\n",
        "  \n",
        "  X2 = Conv2D(160,(13,13),strides=(1,1),padding='valid')(X_input)\n",
        "  X2 = BatchNormalization()(X2)\n",
        "  X21 = Conv2D(160,(13,13),strides=(1,1),padding='valid')(X_input)\n",
        "  X21 = BatchNormalization()(X21)\n",
        "  X2 = layers.Maximum()([X2,X21])\n",
        "  \n",
        "  X3 = Conv2D(64,(3,3),strides=(1,1),padding='valid')(X)\n",
        "  X3 = BatchNormalization()(X3)\n",
        "  X31 =  Conv2D(64,(3,3),strides=(1,1),padding='valid')(X)\n",
        "  X31 = BatchNormalization()(X31)\n",
        "  X = layers.Maximum()([X3,X31])\n",
        "  X = Conv2D(64,(2,2),strides=(1,1),padding='valid',activation='relu')(X)\n",
        "  \n",
        "  X = Concatenate()([X2,X])\n",
        "  #X = Conv2D(5,(21,21),strides=(1,1))(X)\n",
        "  #X = Activation('softmax')(X)\n",
        "  \n",
        "  #model = Model(inputs = X_input, outputs = X)\n",
        "  return X"
      ],
      "execution_count": 0,
      "outputs": []
    },
    {
      "metadata": {
        "id": "6O3jE_k6cEIl",
        "colab_type": "code",
        "colab": {}
      },
      "cell_type": "code",
      "source": [
        "def input_cascade(input_shape1,input_shape2):\n",
        "  \n",
        "  X1_input = Input(input_shape1)\n",
        "  X1 = two_path(X1_input)\n",
        "  X1 = Conv2D(5,(21,21),strides=(1,1),padding='valid',activation='relu')(X1)\n",
        "  X1 = BatchNormalization()(X1)\n",
        "  \n",
        "  X2_input = Input(input_shape2)\n",
        "  X2_input1 = Concatenate()([X1,X2_input])\n",
        "  #X2_input1 = Input(tensor = X2_input1)\n",
        "  X2 = two_path(X2_input1)\n",
        "  X2 = Conv2D(5,(21,21),strides=(1,1),padding='valid')(X2)\n",
        "  X2 = BatchNormalization()(X2)\n",
        "  X2 = Activation('softmax')(X2)\n",
        "  \n",
        "  model = Model(inputs=[X1_input,X2_input],outputs=X2)\n",
        "  return model\n",
        "  "
      ],
      "execution_count": 0,
      "outputs": []
    },
    {
      "metadata": {
        "id": "QPq0SXTivPZ1",
        "colab_type": "code",
        "colab": {}
      },
      "cell_type": "code",
      "source": [
        "def MFCcascade(input_shape1,input_shape2):\n",
        "  \n",
        "  X1_input = Input(input_shape1)\n",
        "  X1 = two_path(X1_input)\n",
        "  X1 = Conv2D(5,(21,21),strides=(1,1),padding='valid',activation='relu')(X1)\n",
        "  X1 = BatchNormalization()(X1)\n",
        "  #X1 = MaxPooling2D((2,2))(X1)\n",
        "  \n",
        "  X2_input = Input(input_shape2)\n",
        "  X2 = two_path(X2_input)\n",
        "  \n",
        "  X2 = Concatenate()([X1,X2])\n",
        "  X2 = Conv2D(5,(21,21),strides=(1,1),padding='valid',activation='relu')(X2)\n",
        "  X2 = BatchNormalization()(X2)\n",
        "  X2 = Activation('softmax')(X2)\n",
        "  \n",
        "  model = Model(inputs=[X1_input,X2_input],outputs=X2)\n",
        "  return model\n",
        "  "
      ],
      "execution_count": 0,
      "outputs": []
    },
    {
      "metadata": {
        "id": "sAqw5R8vweug",
        "colab_type": "code",
        "colab": {}
      },
      "cell_type": "code",
      "source": [
        "m = MFCcascade((53,53,4),(33,33,4))\n",
        "m.summary()"
      ],
      "execution_count": 0,
      "outputs": []
    },
    {
      "metadata": {
        "id": "I3l16YuGsuYu",
        "colab_type": "code",
        "colab": {}
      },
      "cell_type": "code",
      "source": [
        "m.compile(optimizer='adam',loss='categorical_crossentropy',metrics=['accuracy'])"
      ],
      "execution_count": 0,
      "outputs": []
    },
    {
      "metadata": {
        "id": "nnHOtrWqsdVw",
        "colab_type": "code",
        "colab": {}
      },
      "cell_type": "code",
      "source": [
        "m.save('trial_0001_MFCcascade_acc.h5')"
      ],
      "execution_count": 0,
      "outputs": []
    },
    {
      "metadata": {
        "id": "irkvZbGfzSP6",
        "colab_type": "code",
        "colab": {}
      },
      "cell_type": "code",
      "source": [
        "m1 = input_cascade((65,65,4),(33,33,4))\n",
        "m1.summary()"
      ],
      "execution_count": 0,
      "outputs": []
    },
    {
      "metadata": {
        "id": "jPr6MX-zgAC0",
        "colab_type": "code",
        "colab": {}
      },
      "cell_type": "code",
      "source": [
        "import os\n",
        "os.chdir('drive/brat')"
      ],
      "execution_count": 0,
      "outputs": []
    },
    {
      "metadata": {
        "id": "b9DjejaYSVcU",
        "colab_type": "code",
        "colab": {}
      },
      "cell_type": "code",
      "source": [
        "def model_gen(input_dim,x,y,slice_no):\n",
        "  X1 = []\n",
        "  X2 = []\n",
        "  Y = []\n",
        "  print(int((input_dim)/2))\n",
        "  for i in range(int((input_dim)/2),175-int((input_dim)/2)):\n",
        "    for j in range(int((input_dim)/2),195-int((input_dim)/2)):\n",
        "      X2.append(x[i-16:i+17,j-16:j+17,:])\n",
        "      X1.append(x[i-int((input_dim)/2):i+int((input_dim)/2)+1,j-int((input_dim)/2):j+int((input_dim)/2)+1,:])\n",
        "      Y.append(y[i,slice_no,j])\n",
        "      \n",
        "  X1 = np.asarray(X1)\n",
        "  X2 = np.asarray(X2)\n",
        "  Y = np.asarray(Y)\n",
        "  d = [X1,X2,Y]\n",
        "  return d"
      ],
      "execution_count": 0,
      "outputs": []
    },
    {
      "metadata": {
        "id": "fyc_LhG_SVx2",
        "colab_type": "code",
        "colab": {}
      },
      "cell_type": "code",
      "source": [
        "def data_gen(path,slice_no,model_no):\n",
        "  p = os.listdir(path)\n",
        "  p.sort(key=str.lower)\n",
        "  arr = []\n",
        "  for i in range(len(p)):\n",
        "    if(i != 4):\n",
        "      p1 = os.listdir(path+'/'+p[i])\n",
        "      p1.sort()\n",
        "      img = sitk.ReadImage(path+'/'+p[i]+'/'+p1[-1])\n",
        "      arr.append(sitk.GetArrayFromImage(img))\n",
        "    else:\n",
        "      p1 = os.listdir(path+'/'+p[i])\n",
        "      img = sitk.ReadImage(path+'/'+p[i]+'/'+p1[0])\n",
        "      y = sitk.GetArrayFromImage(img)    \n",
        "  data = np.zeros((196,176,216,4))\n",
        "  for i in range(196):\n",
        "    data[i,:,:,0] = arr[0][:,i,:]\n",
        "    data[i,:,:,1] = arr[1][:,i,:]\n",
        "    data[i,:,:,2] = arr[2][:,i,:]\n",
        "    data[i,:,:,3] = arr[3][:,i,:]\n",
        "  x = data[slice_no]\n",
        "  \n",
        "  if(model_no == 0):\n",
        "    X1 = []\n",
        "    for i in range(16,159):\n",
        "      for j in range(16,199):\n",
        "        X1.append(x[i-16:i+17,j-16:j+17,:])\n",
        "    Y1 = []\n",
        "    for i in range(16,159):\n",
        "      for j in range(16,199):\n",
        "        Y1.append(y[i,slice_no,j]) \n",
        "    X1 = np.asarray(X1)\n",
        "    Y1 = np.asarray(Y1)\n",
        "    d = [X1,Y1]\n",
        "  elif(model_no == 1):\n",
        "    d = model_gen(65,x,y,slice_no)\n",
        "  elif(model_no == 2):\n",
        "    d = model_gen(56,x,y,slice_no)\n",
        "  elif(model_no == 3):\n",
        "    d = model_gen(53,x,y,slice_no)  \n",
        "    \n",
        "  return d   "
      ],
      "execution_count": 0,
      "outputs": []
    },
    {
      "metadata": {
        "id": "l13G56crSV1W",
        "colab_type": "code",
        "colab": {}
      },
      "cell_type": "code",
      "source": [
        "d = data_gen('LG/0001',100,3)"
      ],
      "execution_count": 0,
      "outputs": []
    },
    {
      "metadata": {
        "id": "VNcrwh0_eLhA",
        "colab_type": "code",
        "colab": {}
      },
      "cell_type": "code",
      "source": [
        "d[2].all == 0"
      ],
      "execution_count": 0,
      "outputs": []
    },
    {
      "metadata": {
        "id": "2AQ4FnZ4S9aa",
        "colab_type": "code",
        "colab": {}
      },
      "cell_type": "code",
      "source": [
        "len(d[0])"
      ],
      "execution_count": 0,
      "outputs": []
    },
    {
      "metadata": {
        "id": "nm-VUWyASV4U",
        "colab_type": "code",
        "colab": {}
      },
      "cell_type": "code",
      "source": [
        "!pip3 install SimpleITK"
      ],
      "execution_count": 0,
      "outputs": []
    },
    {
      "metadata": {
        "id": "ApcCWE_kSWJR",
        "colab_type": "code",
        "colab": {}
      },
      "cell_type": "code",
      "source": [
        "import SimpleITK as sitk\n",
        "import numpy as np"
      ],
      "execution_count": 0,
      "outputs": []
    },
    {
      "metadata": {
        "id": "z6kFD2BoSWNF",
        "colab_type": "code",
        "colab": {}
      },
      "cell_type": "code",
      "source": [
        "y = np.zeros((17589,1,1,5))"
      ],
      "execution_count": 0,
      "outputs": []
    },
    {
      "metadata": {
        "id": "3ykXWR6aSVv7",
        "colab_type": "code",
        "colab": {}
      },
      "cell_type": "code",
      "source": [
        "for i in range(y.shape[0]):\n",
        "  y[i,:,:,d[2][i]] = 1"
      ],
      "execution_count": 0,
      "outputs": []
    },
    {
      "metadata": {
        "id": "a8MbsET_lITK",
        "colab_type": "code",
        "colab": {}
      },
      "cell_type": "code",
      "source": [
        "sample = np.zeros((5,1))\n",
        "for i in range(5):\n",
        "  sample[i] = np.sum(y[:,:,:,i])\n",
        "print(sample/np.sum(sample))  "
      ],
      "execution_count": 0,
      "outputs": []
    },
    {
      "metadata": {
        "id": "-jDfh_KSTGYh",
        "colab_type": "code",
        "colab": {}
      },
      "cell_type": "code",
      "source": [
        "X1 = np.asarray(d[0])"
      ],
      "execution_count": 0,
      "outputs": []
    },
    {
      "metadata": {
        "id": "hvIGmdh9U7yH",
        "colab_type": "code",
        "colab": {}
      },
      "cell_type": "code",
      "source": [
        "X1.shape"
      ],
      "execution_count": 0,
      "outputs": []
    },
    {
      "metadata": {
        "id": "0Dr_yMLaTGWA",
        "colab_type": "code",
        "colab": {}
      },
      "cell_type": "code",
      "source": [
        "X2 = np.asarray(d[1])"
      ],
      "execution_count": 0,
      "outputs": []
    },
    {
      "metadata": {
        "id": "wOSoBQZ7U9cf",
        "colab_type": "code",
        "colab": {}
      },
      "cell_type": "code",
      "source": [
        "X2.shape"
      ],
      "execution_count": 0,
      "outputs": []
    },
    {
      "metadata": {
        "id": "vEI0767dVR46",
        "colab_type": "code",
        "colab": {}
      },
      "cell_type": "code",
      "source": [
        "m1.inputs"
      ],
      "execution_count": 0,
      "outputs": []
    },
    {
      "metadata": {
        "id": "LujuHlelTGUK",
        "colab_type": "code",
        "colab": {}
      },
      "cell_type": "code",
      "source": [
        "m.compile(optimizer='adam',loss='categorical_crossentropy',metrics=[f1_score])"
      ],
      "execution_count": 0,
      "outputs": []
    },
    {
      "metadata": {
        "id": "BDUjM2drTGQ1",
        "colab_type": "code",
        "colab": {}
      },
      "cell_type": "code",
      "source": [
        "m_info = m.fit([X1,X2],y,epochs=20,batch_size=256)"
      ],
      "execution_count": 0,
      "outputs": []
    },
    {
      "metadata": {
        "id": "PnhDVGN8TGOS",
        "colab_type": "code",
        "colab": {}
      },
      "cell_type": "code",
      "source": [
        "m.compile(optimizer='adam',loss='categorical_crossentropy',metrics=['accuracy'])"
      ],
      "execution_count": 0,
      "outputs": []
    },
    {
      "metadata": {
        "id": "r3Vzzfj-F4bb",
        "colab_type": "text"
      },
      "cell_type": "markdown",
      "source": [
        "Slice 136 patient 0002"
      ]
    },
    {
      "metadata": {
        "id": "L9unxNJ0GBjv",
        "colab_type": "code",
        "colab": {}
      },
      "cell_type": "code",
      "source": [
        "from sklearn.utils import class_weight\n",
        "class_weights = class_weight.compute_class_weight('balanced',\n",
        "                                                 np.unique(d[2]),\n",
        "                                                 d[2])"
      ],
      "execution_count": 0,
      "outputs": []
    },
    {
      "metadata": {
        "id": "vNUs_MEpGBoY",
        "colab_type": "code",
        "colab": {}
      },
      "cell_type": "code",
      "source": [
        "class_weights"
      ],
      "execution_count": 0,
      "outputs": []
    },
    {
      "metadata": {
        "id": "hTD1_MwBGBuC",
        "colab_type": "code",
        "colab": {}
      },
      "cell_type": "code",
      "source": [
        "import keras\n",
        "model = keras.models.load_model('trial_0001_MFCcas_dim2_128_acc.h5')"
      ],
      "execution_count": 0,
      "outputs": []
    },
    {
      "metadata": {
        "id": "3M-UhTnDGB_q",
        "colab_type": "code",
        "colab": {}
      },
      "cell_type": "code",
      "source": [
        "m_info = m.fit([X1,X2],y,epochs= 20,batch_size = 256,class_weight = class_weights)"
      ],
      "execution_count": 0,
      "outputs": []
    },
    {
      "metadata": {
        "id": "ZLKHRdib01PP",
        "colab_type": "code",
        "colab": {}
      },
      "cell_type": "code",
      "source": [
        "import matplotlib.pyplot as plt\n",
        "plt.plot(m_info.history['acc'])\n",
        "#plt.plot(m_info.history['val_acc'])\n",
        "plt.title('model accuracy')\n",
        "plt.ylabel('accuracy')\n",
        "plt.xlabel('epoch')\n",
        "plt.legend(['train', 'test'], loc='upper left')\n",
        "plt.show()"
      ],
      "execution_count": 0,
      "outputs": []
    },
    {
      "metadata": {
        "id": "1RMqW8zQ0H6e",
        "colab_type": "code",
        "colab": {}
      },
      "cell_type": "code",
      "source": [
        "m.save('trial_MFCcascade_acc.h5')"
      ],
      "execution_count": 0,
      "outputs": []
    },
    {
      "metadata": {
        "id": "gwNr5z5DTFPm",
        "colab_type": "text"
      },
      "cell_type": "markdown",
      "source": [
        "eval on 128th slice 0002"
      ]
    },
    {
      "metadata": {
        "id": "tBL5kEi7TFgh",
        "colab_type": "code",
        "colab": {}
      },
      "cell_type": "code",
      "source": [
        "model.evaluate([X1,X2],y,batch_size = 1024)"
      ],
      "execution_count": 0,
      "outputs": []
    },
    {
      "metadata": {
        "id": "mbH9DMlNG9VZ",
        "colab_type": "code",
        "colab": {}
      },
      "cell_type": "code",
      "source": [
        "model_info = model.fit([X1,X2],y,epochs=30,batch_size=256,class_weight= class_weights)"
      ],
      "execution_count": 0,
      "outputs": []
    },
    {
      "metadata": {
        "id": "_U33DPJVJU4Y",
        "colab_type": "code",
        "colab": {}
      },
      "cell_type": "code",
      "source": [
        "import matplotlib.pyplot as plt\n",
        "plt.plot(model_info.history['acc'])\n",
        "#plt.plot(m_info.history['val_acc'])\n",
        "plt.title('model accuracy')\n",
        "plt.ylabel('accuracy')\n",
        "plt.xlabel('epoch')\n",
        "plt.legend(['train', 'test'], loc='upper left')\n",
        "plt.show()"
      ],
      "execution_count": 0,
      "outputs": []
    },
    {
      "metadata": {
        "id": "3lziDgWfJWj-",
        "colab_type": "code",
        "colab": {}
      },
      "cell_type": "code",
      "source": [
        "model.save('trial_0001_MFCcas_dim2_128_acc.h5')"
      ],
      "execution_count": 0,
      "outputs": []
    },
    {
      "metadata": {
        "id": "mQSajo4FftOE",
        "colab_type": "text"
      },
      "cell_type": "markdown",
      "source": [
        "eval on 100th slice 0001"
      ]
    },
    {
      "metadata": {
        "id": "nzrrhhMsfxpu",
        "colab_type": "code",
        "colab": {}
      },
      "cell_type": "code",
      "source": [
        "model.evaluate([X1,X2],y,batch_size = 1024)"
      ],
      "execution_count": 0,
      "outputs": []
    },
    {
      "metadata": {
        "id": "T9YzEZDuJfOu",
        "colab_type": "code",
        "colab": {}
      },
      "cell_type": "code",
      "source": [
        "pred = model.predict([X1,X2],batch_size = 1024)\n",
        "pred = np.around(pred)\n",
        "pred1 = np.dot(pred.reshape(17589,5),np.array([0,1,2,3,4]))\n",
        "y1 = np.dot(y.reshape(17589,5),np.array([0,1,2,3,4]))"
      ],
      "execution_count": 0,
      "outputs": []
    },
    {
      "metadata": {
        "id": "ih34JtbkhL0K",
        "colab_type": "code",
        "colab": {}
      },
      "cell_type": "code",
      "source": [
        "y2 = np.argmax(y.reshape(17589,5),axis = 1)\n",
        "y2.all() == 0"
      ],
      "execution_count": 0,
      "outputs": []
    },
    {
      "metadata": {
        "id": "nzqkK_CqaNck",
        "colab_type": "code",
        "colab": {}
      },
      "cell_type": "code",
      "source": [
        "y1.all()==0"
      ],
      "execution_count": 0,
      "outputs": []
    },
    {
      "metadata": {
        "id": "0gyXYBgmJgqE",
        "colab_type": "code",
        "colab": {}
      },
      "cell_type": "code",
      "source": [
        "from sklearn import metrics"
      ],
      "execution_count": 0,
      "outputs": []
    },
    {
      "metadata": {
        "id": "oVuRmb5IZdfE",
        "colab_type": "code",
        "colab": {}
      },
      "cell_type": "code",
      "source": [
        "f1 = metrics.f1_score(y1,pred1,average='micro')\n",
        "f1"
      ],
      "execution_count": 0,
      "outputs": []
    },
    {
      "metadata": {
        "id": "hSCNIVMObhqR",
        "colab_type": "code",
        "colab": {}
      },
      "cell_type": "code",
      "source": [
        "p1 = metrics.precision_score(y1,pred1,average='micro')\n",
        "p1"
      ],
      "execution_count": 0,
      "outputs": []
    },
    {
      "metadata": {
        "id": "juoUfTgPbxtu",
        "colab_type": "code",
        "colab": {}
      },
      "cell_type": "code",
      "source": [
        "r1 = metrics.recall_score(y1,pred1,average='micro')\n",
        "r1"
      ],
      "execution_count": 0,
      "outputs": []
    },
    {
      "metadata": {
        "id": "BLKVwEU6b6yf",
        "colab_type": "code",
        "colab": {}
      },
      "cell_type": "code",
      "source": [
        "p2 = metrics.precision_score(y1,pred2,average='micro')\n",
        "p2"
      ],
      "execution_count": 0,
      "outputs": []
    },
    {
      "metadata": {
        "id": "K5K8wS3ZZgGd",
        "colab_type": "code",
        "colab": {}
      },
      "cell_type": "code",
      "source": [
        "pred2 = np.zeros((17589))\n",
        "f2 = metrics.f1_score(y1,pred2,average='micro')\n",
        "f2"
      ],
      "execution_count": 0,
      "outputs": []
    },
    {
      "metadata": {
        "id": "F7HQ0ZY9GCrL",
        "colab_type": "text"
      },
      "cell_type": "markdown",
      "source": [
        "Slice 128 patient 0001"
      ]
    },
    {
      "metadata": {
        "id": "f7A623TIkCy4",
        "colab_type": "code",
        "colab": {}
      },
      "cell_type": "code",
      "source": [
        "from sklearn.utils import class_weight"
      ],
      "execution_count": 0,
      "outputs": []
    },
    {
      "metadata": {
        "id": "9ahv4o9ikC7h",
        "colab_type": "code",
        "colab": {}
      },
      "cell_type": "code",
      "source": [
        "class_weights = class_weight.compute_class_weight('balanced',\n",
        "                                                 np.unique(d[2]),\n",
        "                                                 d[2])"
      ],
      "execution_count": 0,
      "outputs": []
    },
    {
      "metadata": {
        "id": "pDX-NlqMg2c_",
        "colab_type": "code",
        "colab": {}
      },
      "cell_type": "code",
      "source": [
        "class_weights"
      ],
      "execution_count": 0,
      "outputs": []
    },
    {
      "metadata": {
        "id": "qyw0msu-mS6c",
        "colab_type": "code",
        "colab": {}
      },
      "cell_type": "code",
      "source": [
        "m1.compile(optimizer='adam',loss='categorical_crossentropy',metrics=['accuracy'])"
      ],
      "execution_count": 0,
      "outputs": []
    },
    {
      "metadata": {
        "id": "zQfSUXmrZDka",
        "colab_type": "code",
        "colab": {}
      },
      "cell_type": "code",
      "source": [
        "m1_info = m1.fit([X1,X2],y,epochs=20,batch_size=256,class_weight= class_weights)"
      ],
      "execution_count": 0,
      "outputs": []
    },
    {
      "metadata": {
        "id": "XHpzjw0XiP1R",
        "colab_type": "text"
      },
      "cell_type": "markdown",
      "source": [
        "plot of inputcascade"
      ]
    },
    {
      "metadata": {
        "id": "KYA-a0zTwacP",
        "colab_type": "code",
        "colab": {}
      },
      "cell_type": "code",
      "source": [
        "import matplotlib.pyplot as plt"
      ],
      "execution_count": 0,
      "outputs": []
    },
    {
      "metadata": {
        "id": "PoHH76zZiNjb",
        "colab_type": "code",
        "colab": {}
      },
      "cell_type": "code",
      "source": [
        "plt.plot(m1_info.history['acc'])\n",
        "#plt.plot(m_info.history['val_acc'])\n",
        "plt.title('model accuracy')\n",
        "plt.ylabel('accuracy')\n",
        "plt.xlabel('epoch')\n",
        "plt.legend(['train', 'test'], loc='upper left')\n",
        "plt.show()"
      ],
      "execution_count": 0,
      "outputs": []
    },
    {
      "metadata": {
        "id": "3ZEXAAs5iU3g",
        "colab_type": "code",
        "colab": {}
      },
      "cell_type": "code",
      "source": [
        "m1.save('trial_0001_input_cascade_acc.h5')"
      ],
      "execution_count": 0,
      "outputs": []
    },
    {
      "metadata": {
        "id": "Up0HYhUL2vIm",
        "colab_type": "code",
        "colab": {}
      },
      "cell_type": "code",
      "source": [
        "plt.plot(m_info.history['acc'])\n",
        "#plt.plot(m_info.history['val_acc'])\n",
        "plt.title('model accuracy')\n",
        "plt.ylabel('accuracy')\n",
        "plt.xlabel('epoch')\n",
        "plt.legend(['train', 'test'], loc='upper left')\n",
        "plt.show()"
      ],
      "execution_count": 0,
      "outputs": []
    },
    {
      "metadata": {
        "id": "I9qANEg_IYlf",
        "colab_type": "text"
      },
      "cell_type": "markdown",
      "source": [
        "Training on slice 128, evaluating on 136"
      ]
    },
    {
      "metadata": {
        "id": "yR3BooKbHAzM",
        "colab_type": "code",
        "colab": {}
      },
      "cell_type": "code",
      "source": [
        "m.evaluate([X1,X2],y,batch_size = 1024)"
      ],
      "execution_count": 0,
      "outputs": []
    },
    {
      "metadata": {
        "id": "edBYjuKXHXPw",
        "colab_type": "code",
        "colab": {}
      },
      "cell_type": "code",
      "source": [
        "m.save('trial_0001_MFCcas_dim2_128_acc.h5')"
      ],
      "execution_count": 0,
      "outputs": []
    },
    {
      "metadata": {
        "id": "6oxdLZroKhXm",
        "colab_type": "code",
        "colab": {}
      },
      "cell_type": "code",
      "source": [
        "pred = m.predict([X1,X2],batch_size = 1024)"
      ],
      "execution_count": 0,
      "outputs": []
    },
    {
      "metadata": {
        "id": "FUGQ9d5jLvp2",
        "colab_type": "code",
        "colab": {}
      },
      "cell_type": "code",
      "source": [
        "print(((pred != 0.) & (pred != 1.)).any())"
      ],
      "execution_count": 0,
      "outputs": []
    },
    {
      "metadata": {
        "id": "Ag_48CJ6L8_0",
        "colab_type": "code",
        "colab": {}
      },
      "cell_type": "code",
      "source": [
        "pred = np.around(pred)"
      ],
      "execution_count": 0,
      "outputs": []
    },
    {
      "metadata": {
        "id": "Lw5X_WarL9RE",
        "colab_type": "code",
        "colab": {}
      },
      "cell_type": "code",
      "source": [
        "type(y)"
      ],
      "execution_count": 0,
      "outputs": []
    },
    {
      "metadata": {
        "id": "jF_O_oExPGXu",
        "colab_type": "code",
        "colab": {}
      },
      "cell_type": "code",
      "source": [
        "pred1 = np.dot(pred.reshape(17589,5),np.array([0,1,2,3,4]))"
      ],
      "execution_count": 0,
      "outputs": []
    },
    {
      "metadata": {
        "id": "vtri4ExhP6Iv",
        "colab_type": "code",
        "colab": {}
      },
      "cell_type": "code",
      "source": [
        "pred1.shape"
      ],
      "execution_count": 0,
      "outputs": []
    },
    {
      "metadata": {
        "id": "cgQkvvVKPtOV",
        "colab_type": "code",
        "colab": {}
      },
      "cell_type": "code",
      "source": [
        "y1 = np.dot(y.reshape(17589,5),np.array([0,1,2,3,4]))"
      ],
      "execution_count": 0,
      "outputs": []
    },
    {
      "metadata": {
        "id": "T0sHLLLKKhi9",
        "colab_type": "code",
        "colab": {}
      },
      "cell_type": "code",
      "source": [
        "from sklearn import metrics"
      ],
      "execution_count": 0,
      "outputs": []
    },
    {
      "metadata": {
        "id": "CcB5r9aZKiFP",
        "colab_type": "code",
        "colab": {}
      },
      "cell_type": "code",
      "source": [
        "f1 = metrics.f1_score(y1,pred1,average='micro')\n",
        "f1"
      ],
      "execution_count": 0,
      "outputs": []
    },
    {
      "metadata": {
        "id": "8oC5O024R_DO",
        "colab_type": "code",
        "colab": {}
      },
      "cell_type": "code",
      "source": [
        "pred2 = np.zeros((17589,1))\n",
        "f1 = f1 = metrics.f1_score(y1,pred2,average='micro')\n",
        "f1"
      ],
      "execution_count": 0,
      "outputs": []
    },
    {
      "metadata": {
        "id": "jlqhXHKkQ9QN",
        "colab_type": "code",
        "colab": {}
      },
      "cell_type": "code",
      "source": [
        "f1 = metrics.f1_score(y1,pred1,average='weighted')\n",
        "f1"
      ],
      "execution_count": 0,
      "outputs": []
    },
    {
      "metadata": {
        "id": "EFBIwoSURUen",
        "colab_type": "code",
        "colab": {}
      },
      "cell_type": "code",
      "source": [
        "f1 = metrics.f1_score(y1,pred1,average='macro')\n",
        "f1"
      ],
      "execution_count": 0,
      "outputs": []
    },
    {
      "metadata": {
        "id": "vxO5TfhjmD8A",
        "colab_type": "code",
        "colab": {}
      },
      "cell_type": "code",
      "source": [
        "plt.plot(m_info.history['acc'])\n",
        "#plt.plot(m_info.history['val_acc'])\n",
        "plt.title('model accuracy')\n",
        "plt.ylabel('accuracy')\n",
        "plt.xlabel('epoch')\n",
        "plt.legend(['train', 'test'], loc='upper left')\n",
        "plt.show()"
      ],
      "execution_count": 0,
      "outputs": []
    },
    {
      "metadata": {
        "id": "w9e_7_ONvmIV",
        "colab_type": "code",
        "colab": {}
      },
      "cell_type": "code",
      "source": [
        "m_info = m.fit([X1,X2],y,epochs=20,batch_size=256,class_weight= 10*class_weights)"
      ],
      "execution_count": 0,
      "outputs": []
    },
    {
      "metadata": {
        "id": "4OBR2KwDwQmm",
        "colab_type": "code",
        "colab": {}
      },
      "cell_type": "code",
      "source": [
        "plt.plot(m_info.history['acc'])\n",
        "#plt.plot(m_info.history['val_acc'])\n",
        "plt.title('model accuracy')\n",
        "plt.ylabel('accuracy')\n",
        "plt.xlabel('epoch')\n",
        "plt.legend(['train', 'test'], loc='upper left')\n",
        "plt.show()"
      ],
      "execution_count": 0,
      "outputs": []
    },
    {
      "metadata": {
        "id": "QT-eYsOxmGUx",
        "colab_type": "code",
        "colab": {}
      },
      "cell_type": "code",
      "source": [
        "import matplotlib.pyplot as plt"
      ],
      "execution_count": 0,
      "outputs": []
    },
    {
      "metadata": {
        "id": "LC8jMBpmZT-b",
        "colab_type": "code",
        "colab": {}
      },
      "cell_type": "code",
      "source": [
        "m.save('trial_0001_MFCcas_dim2_128_acc.h5')"
      ],
      "execution_count": 0,
      "outputs": []
    },
    {
      "metadata": {
        "id": "DcNy4_hAshI-",
        "colab_type": "code",
        "colab": {}
      },
      "cell_type": "code",
      "source": [
        "import keras"
      ],
      "execution_count": 0,
      "outputs": []
    },
    {
      "metadata": {
        "id": "kKTL7TgjUEs5",
        "colab_type": "code",
        "colab": {}
      },
      "cell_type": "code",
      "source": [
        "def two_pathcnn(input_shape):\n",
        "  \n",
        "  X_input = Input(input_shape)\n",
        "  \n",
        "  X = Conv2D(64,(7,7),strides=(1,1),padding='valid')(X_input)\n",
        "  X = BatchNormalization()(X)\n",
        "  X1 = Conv2D(64,(7,7),strides=(1,1),padding='valid')(X_input)\n",
        "  X1 = BatchNormalization()(X1)\n",
        "  X = layers.Maximum()([X,X1])\n",
        "  X = Conv2D(64,(4,4),strides=(1,1),padding='valid',activation='relu')(X)\n",
        "  \n",
        "  X2 = Conv2D(160,(13,13),strides=(1,1),padding='valid')(X_input)\n",
        "  X2 = BatchNormalization()(X2)\n",
        "  X21 = Conv2D(160,(13,13),strides=(1,1),padding='valid')(X_input)\n",
        "  X21 = BatchNormalization()(X21)\n",
        "  X2 = layers.Maximum()([X2,X21])\n",
        "  \n",
        "  X3 = Conv2D(64,(3,3),strides=(1,1),padding='valid')(X)\n",
        "  X3 = BatchNormalization()(X3)\n",
        "  X31 =  Conv2D(64,(3,3),strides=(1,1),padding='valid')(X)\n",
        "  X31 = BatchNormalization()(X31)\n",
        "  X = layers.Maximum()([X3,X31])\n",
        "  X = Conv2D(64,(2,2),strides=(1,1),padding='valid',activation='relu')(X)\n",
        "  \n",
        "  X = Concatenate()([X2,X])\n",
        "  X = Conv2D(5,(21,21),strides=(1,1),padding='valid')(X)\n",
        "  X = Activation('softmax')(X)\n",
        "  \n",
        "  model = Model(inputs = X_input, outputs = X)\n",
        "  return model "
      ],
      "execution_count": 0,
      "outputs": []
    },
    {
      "metadata": {
        "id": "g65XgHCVNjG_",
        "colab_type": "code",
        "colab": {}
      },
      "cell_type": "code",
      "source": [
        "import os"
      ],
      "execution_count": 0,
      "outputs": []
    },
    {
      "metadata": {
        "id": "qtCNZjdEYdpI",
        "colab_type": "code",
        "colab": {}
      },
      "cell_type": "code",
      "source": [
        "m0 = two_pathcnn((33,33,4))\n",
        "m0.summary()"
      ],
      "execution_count": 0,
      "outputs": []
    },
    {
      "metadata": {
        "id": "YzWnu9qENpex",
        "colab_type": "code",
        "colab": {}
      },
      "cell_type": "code",
      "source": [
        "os.chdir('drive/brat')"
      ],
      "execution_count": 0,
      "outputs": []
    },
    {
      "metadata": {
        "id": "8BzGy_BHU8g5",
        "colab_type": "code",
        "colab": {}
      },
      "cell_type": "code",
      "source": [
        "!ls"
      ],
      "execution_count": 0,
      "outputs": []
    },
    {
      "metadata": {
        "id": "jArTgu1mYbDX",
        "colab_type": "text"
      },
      "cell_type": "markdown",
      "source": [
        "for training over entire image, create batch of patches for one image, batch of labels in Y"
      ]
    },
    {
      "metadata": {
        "id": "R52SBQaaN3fu",
        "colab_type": "code",
        "colab": {}
      },
      "cell_type": "code",
      "source": [
        "import h5py\n",
        "import numpy as np"
      ],
      "execution_count": 0,
      "outputs": []
    },
    {
      "metadata": {
        "id": "VRG2Y_KGYrku",
        "colab_type": "code",
        "colab": {}
      },
      "cell_type": "code",
      "source": [
        "hf = h5py.File('data_trial_dim2_128.h5', 'r')\n",
        "X = hf.get('dataset_1')\n",
        "Y = hf.get('dataset_2')"
      ],
      "execution_count": 0,
      "outputs": []
    },
    {
      "metadata": {
        "id": "1n4VWsNqjDOd",
        "colab_type": "code",
        "colab": {}
      },
      "cell_type": "code",
      "source": [
        "y = np.zeros((26169,1,1,5))"
      ],
      "execution_count": 0,
      "outputs": []
    },
    {
      "metadata": {
        "id": "HjCGoxKTjStY",
        "colab_type": "code",
        "colab": {}
      },
      "cell_type": "code",
      "source": [
        "for i in range(y.shape[0]):\n",
        "  y[i,:,:,Y[i]] = 1"
      ],
      "execution_count": 0,
      "outputs": []
    },
    {
      "metadata": {
        "id": "Tcx4_Tz7BuYv",
        "colab_type": "code",
        "colab": {}
      },
      "cell_type": "code",
      "source": [
        "X = np.asarray(X)"
      ],
      "execution_count": 0,
      "outputs": []
    },
    {
      "metadata": {
        "id": "LuQRiz28B0-p",
        "colab_type": "code",
        "colab": {}
      },
      "cell_type": "code",
      "source": [
        "X.shape"
      ],
      "execution_count": 0,
      "outputs": []
    },
    {
      "metadata": {
        "id": "iHYYek1PGiho",
        "colab_type": "code",
        "colab": {}
      },
      "cell_type": "code",
      "source": [
        "keras.__version__"
      ],
      "execution_count": 0,
      "outputs": []
    },
    {
      "metadata": {
        "id": "7rBbjTV_HKB7",
        "colab_type": "code",
        "colab": {}
      },
      "cell_type": "code",
      "source": [
        "import keras.backend as K\n",
        "\n",
        "def f1_score(y_true, y_pred):\n",
        "\n",
        "    # Count positive samples.\n",
        "    c1 = K.sum(K.round(K.clip(y_true * y_pred, 0, 1)))\n",
        "    c2 = K.sum(K.round(K.clip(y_true, 0, 1)))\n",
        "    c3 = K.sum(K.round(K.clip(y_pred, 0, 1)))\n",
        "\n",
        "    # If there are no true samples, fix the F1 score at 0.\n",
        "    if c3 == 0:\n",
        "        return 0\n",
        "\n",
        "    # How many selected items are relevant?\n",
        "    precision = c1 / c2\n",
        "\n",
        "    # How many relevant items are selected?\n",
        "    recall = c1 / c3\n",
        "\n",
        "    # Calculate f1_score\n",
        "    f1_score = 2 * (precision * recall) / (precision + recall)\n",
        "    return f1_score"
      ],
      "execution_count": 0,
      "outputs": []
    },
    {
      "metadata": {
        "id": "EeHXZrYUZxyN",
        "colab_type": "code",
        "colab": {}
      },
      "cell_type": "code",
      "source": [
        "from sklearn.utils import class_weight"
      ],
      "execution_count": 0,
      "outputs": []
    },
    {
      "metadata": {
        "id": "UdWiVL_kZ6K0",
        "colab_type": "code",
        "colab": {}
      },
      "cell_type": "code",
      "source": [
        "class_weights = class_weight.compute_class_weight('balanced',\n",
        "                                                 np.unique(Y),\n",
        "                                                 Y)"
      ],
      "execution_count": 0,
      "outputs": []
    },
    {
      "metadata": {
        "id": "boPmoQwxe50Z",
        "colab_type": "code",
        "colab": {}
      },
      "cell_type": "code",
      "source": [
        ""
      ],
      "execution_count": 0,
      "outputs": []
    },
    {
      "metadata": {
        "id": "QR_-oP1EOB-M",
        "colab_type": "code",
        "colab": {}
      },
      "cell_type": "code",
      "source": [
        "m0.compile(optimizer='adam',loss='categorical_hinge',metrics=[f1_score])"
      ],
      "execution_count": 0,
      "outputs": []
    },
    {
      "metadata": {
        "id": "KyA-yBHTO_tW",
        "colab_type": "code",
        "colab": {}
      },
      "cell_type": "code",
      "source": [
        "m0_info = m0.fit(X,y,epochs=20,batch_size=1024,class_weight = class_weights)"
      ],
      "execution_count": 0,
      "outputs": []
    },
    {
      "metadata": {
        "id": "kmGNE1aOcUN6",
        "colab_type": "code",
        "colab": {}
      },
      "cell_type": "code",
      "source": [
        "m0.save('trial_0001_dim2_128_f1.h5')"
      ],
      "execution_count": 0,
      "outputs": []
    },
    {
      "metadata": {
        "id": "CkDsXfH8cl5O",
        "colab_type": "code",
        "colab": {}
      },
      "cell_type": "code",
      "source": [
        "!ls"
      ],
      "execution_count": 0,
      "outputs": []
    },
    {
      "metadata": {
        "id": "JxvSP4fUTkj2",
        "colab_type": "code",
        "colab": {}
      },
      "cell_type": "code",
      "source": [
        "m0.compile(optimizer='adam',loss='categorical_crossentropy',metrics=['accuracy'])"
      ],
      "execution_count": 0,
      "outputs": []
    },
    {
      "metadata": {
        "id": "jEI-h7EEbhWS",
        "colab_type": "code",
        "colab": {}
      },
      "cell_type": "code",
      "source": [
        "m0_info = m0.fit(X,y,epochs=20,batch_size=4096,class_weight = class_weights)"
      ],
      "execution_count": 0,
      "outputs": []
    },
    {
      "metadata": {
        "id": "7oUOLbDUdz9I",
        "colab_type": "code",
        "colab": {}
      },
      "cell_type": "code",
      "source": [
        "m0.save('trial_0001_dim2_128_accuracy.h5')"
      ],
      "execution_count": 0,
      "outputs": []
    },
    {
      "metadata": {
        "id": "szFEqCnvcp5T",
        "colab_type": "code",
        "colab": {}
      },
      "cell_type": "code",
      "source": [
        "!ls"
      ],
      "execution_count": 0,
      "outputs": []
    },
    {
      "metadata": {
        "id": "znv9mwx2xonf",
        "colab_type": "code",
        "colab": {}
      },
      "cell_type": "code",
      "source": [
        "mod = keras.models.load_model('trial_0001_81_accuracy.h5')"
      ],
      "execution_count": 0,
      "outputs": []
    },
    {
      "metadata": {
        "id": "RhpsTdGUzH_r",
        "colab_type": "code",
        "colab": {}
      },
      "cell_type": "code",
      "source": [
        "mod.evaluate(X,y,batch_size = 1024)"
      ],
      "execution_count": 0,
      "outputs": []
    },
    {
      "metadata": {
        "id": "8R6h8URV0_GI",
        "colab_type": "code",
        "colab": {}
      },
      "cell_type": "code",
      "source": [
        "pred = m0.predict(X,batch_size = 1024)"
      ],
      "execution_count": 0,
      "outputs": []
    },
    {
      "metadata": {
        "id": "Now748jY1upl",
        "colab_type": "code",
        "colab": {}
      },
      "cell_type": "code",
      "source": [
        "pred.shape"
      ],
      "execution_count": 0,
      "outputs": []
    },
    {
      "metadata": {
        "id": "zEMDqkhvmDTX",
        "colab_type": "code",
        "colab": {}
      },
      "cell_type": "code",
      "source": [
        "pred = np.floor(pred)"
      ],
      "execution_count": 0,
      "outputs": []
    },
    {
      "metadata": {
        "id": "R07kO7eLl1HW",
        "colab_type": "code",
        "colab": {}
      },
      "cell_type": "code",
      "source": [
        "y.reshape(26169,5)"
      ],
      "execution_count": 0,
      "outputs": []
    },
    {
      "metadata": {
        "id": "a_zAutNQmNyv",
        "colab_type": "code",
        "colab": {}
      },
      "cell_type": "code",
      "source": [
        "pred.astype(int)"
      ],
      "execution_count": 0,
      "outputs": []
    },
    {
      "metadata": {
        "id": "ByK4ldMBiCaX",
        "colab_type": "code",
        "colab": {}
      },
      "cell_type": "code",
      "source": [
        "pred = pred.reshape(26169,5)\n",
        "y_pred = np.floor(np.dot(pred,np.array([0,1,2,3,4])))\n",
        "y_pred.reshape(26169,1)"
      ],
      "execution_count": 0,
      "outputs": []
    },
    {
      "metadata": {
        "id": "ft5MP-UGjaPC",
        "colab_type": "code",
        "colab": {}
      },
      "cell_type": "code",
      "source": [
        "y_pred.shape"
      ],
      "execution_count": 0,
      "outputs": []
    },
    {
      "metadata": {
        "id": "dYMNZchKoUC-",
        "colab_type": "code",
        "colab": {}
      },
      "cell_type": "code",
      "source": [
        "print(((y_pred != 0.) & (y_pred != 1.)).any())"
      ],
      "execution_count": 0,
      "outputs": []
    },
    {
      "metadata": {
        "id": "6tUKdKLm17dF",
        "colab_type": "code",
        "colab": {}
      },
      "cell_type": "code",
      "source": [
        "from matplotlib import pyplot as plt\n",
        "plt.imshow(np.uint8(y_pred*32))\n",
        "plt.show()"
      ],
      "execution_count": 0,
      "outputs": []
    },
    {
      "metadata": {
        "id": "xFyViJgY5W1v",
        "colab_type": "code",
        "colab": {}
      },
      "cell_type": "code",
      "source": [
        "from sklearn import metrics"
      ],
      "execution_count": 0,
      "outputs": []
    },
    {
      "metadata": {
        "id": "scB7FvW0fONE",
        "colab_type": "code",
        "colab": {}
      },
      "cell_type": "code",
      "source": [
        "f1 = metrics.f1_score(y,pred)"
      ],
      "execution_count": 0,
      "outputs": []
    },
    {
      "metadata": {
        "id": "q0rVMeaxfw6I",
        "colab_type": "code",
        "colab": {}
      },
      "cell_type": "code",
      "source": [
        "!pip3 install SimpleITK"
      ],
      "execution_count": 0,
      "outputs": []
    },
    {
      "metadata": {
        "id": "E7QS9aQMuaxV",
        "colab_type": "code",
        "colab": {}
      },
      "cell_type": "code",
      "source": [
        "import SimpleITK as sitk\n",
        "import numpy as np"
      ],
      "execution_count": 0,
      "outputs": []
    },
    {
      "metadata": {
        "id": "ksUKU914ucuO",
        "colab_type": "code",
        "colab": {}
      },
      "cell_type": "code",
      "source": [
        "path = 'LG/0001'\n",
        "p = os.listdir(path)\n",
        "p.sort(key=str.lower)\n",
        "arr = []\n",
        "for i in range(len(p)):\n",
        "  if(i != 4):\n",
        "    p1 = os.listdir(path+'/'+p[i])\n",
        "    p1.sort()\n",
        "    img = sitk.ReadImage(path+'/'+p[i]+'/'+p1[-1])\n",
        "    arr.append(sitk.GetArrayFromImage(img))\n",
        "  else:\n",
        "    p1 = os.listdir(path+'/'+p[i])\n",
        "    img = sitk.ReadImage(path+'/'+p[i]+'/'+p1[0])\n",
        "    Y_labels = sitk.GetArrayFromImage(img)    \n",
        "data = np.zeros((Y_labels.shape[1],Y_labels.shape[0],Y_labels.shape[2],4))\n",
        "for i in range(196):\n",
        "  data[i,:,:,0] = arr[0][:,i,:]\n",
        "  data[i,:,:,1] = arr[1][:,i,:]\n",
        "  data[i,:,:,2] = arr[2][:,i,:]\n",
        "  data[i,:,:,3] = arr[3][:,i,:]\n",
        "  "
      ],
      "execution_count": 0,
      "outputs": []
    },
    {
      "metadata": {
        "id": "ZA2jG-uAuezU",
        "colab_type": "code",
        "colab": {}
      },
      "cell_type": "code",
      "source": [
        "def model_gen(input_dim,x,y,slice_no):\n",
        "  X1 = []\n",
        "  X2 = []\n",
        "  Y = []\n",
        "  \n",
        "  for i in range(int((input_dim)/2),175-int((input_dim)/2)):\n",
        "    for j in range(int((input_dim)/2),195-int((input_dim)/2)):\n",
        "      if(x[i-16:i+17,j-16:j+17,:].any != 0):\n",
        "        X2.append(x[i-16:i+17,j-16:j+17,:])\n",
        "        X1.append(x[i-int((input_dim)/2):i+int((input_dim)/2)+1,j-int((input_dim)/2):j+int((input_dim)/2)+1,:])\n",
        "        Y.append(y[i,slice_no,j])\n",
        "      \n",
        "      \n",
        "  X1 = np.asarray(X1)\n",
        "  X2 = np.asarray(X2)\n",
        "  Y = np.asarray(Y)\n",
        "  d = [X1,X2,Y]\n",
        "  return d"
      ],
      "execution_count": 0,
      "outputs": []
    },
    {
      "metadata": {
        "id": "ysYx5d6auhE_",
        "colab_type": "code",
        "colab": {}
      },
      "cell_type": "code",
      "source": [
        "def data_gen(data,y,slice_no,model_no):\n",
        "  d = []\n",
        "  x = data[slice_no]\n",
        "  if(x.any() != 0 and y.any() != 0):\n",
        "    if(model_no == 0):\n",
        "      X1 = []\n",
        "      for i in range(16,159):\n",
        "        for j in range(16,199):\n",
        "          if(x[i-16:i+17,j-16:j+17,:].all != 0):\n",
        "            X1.append(x[i-16:i+17,j-16:j+17,:])\n",
        "      Y1 = []\n",
        "      for i in range(16,159):\n",
        "        for j in range(16,199):\n",
        "          if(x[i-16:i+17,j-16:j+17,:].all != 0):\n",
        "            Y1.append(y[i,slice_no,j]) \n",
        "      X1 = np.asarray(X1)\n",
        "      Y1 = np.asarray(Y1)\n",
        "      d = [X1,Y1]\n",
        "    elif(model_no == 1):\n",
        "      d = model_gen(65,x,y,slice_no)\n",
        "    elif(model_no == 2):\n",
        "      d = model_gen(56,x,y,slice_no)\n",
        "    elif(model_no == 3):\n",
        "      d = model_gen(53,x,y,slice_no)  \n",
        "    \n",
        "  return d   "
      ],
      "execution_count": 0,
      "outputs": []
    },
    {
      "metadata": {
        "id": "flsyxngLumkg",
        "colab_type": "code",
        "colab": {}
      },
      "cell_type": "code",
      "source": [
        "from sklearn.utils import class_weight"
      ],
      "execution_count": 0,
      "outputs": []
    },
    {
      "metadata": {
        "id": "NIJQtuExvNMV",
        "colab_type": "code",
        "colab": {}
      },
      "cell_type": "code",
      "source": [
        "m0.compile(optimizer='adam',loss='categorical_crossentropy',metrics=['accuracy'])"
      ],
      "execution_count": 0,
      "outputs": []
    },
    {
      "metadata": {
        "id": "aQDLM0pUuoxT",
        "colab_type": "code",
        "colab": {}
      },
      "cell_type": "code",
      "source": [
        "info = []\n",
        "for i in range(90,data.shape[0],2):\n",
        "  d = data_gen(data,Y_labels,i,0)\n",
        "  if(len(d) != 0):\n",
        "    y = np.zeros((d[-1].shape[0],1,1,5))\n",
        "    for j in range(y.shape[0]):\n",
        "      y[j,:,:,d[-1][j]] = 1\n",
        "    X1 = d[0]\n",
        "    class_weights = class_weight.compute_class_weight('balanced',\n",
        "                                                      np.unique(d[-1]),\n",
        "                                                      d[-1])\n",
        "    print('slice no:'+str(i))\n",
        "    info.append(m0.fit(X1,y,epochs=2,batch_size=32,class_weight= class_weights))\n",
        "    m0.save('trial_0001_2path_acc.h5')"
      ],
      "execution_count": 0,
      "outputs": []
    },
    {
      "metadata": {
        "id": "vhGYnI_qu8Dx",
        "colab_type": "code",
        "colab": {}
      },
      "cell_type": "code",
      "source": [
        ""
      ],
      "execution_count": 0,
      "outputs": []
    }
  ]
}