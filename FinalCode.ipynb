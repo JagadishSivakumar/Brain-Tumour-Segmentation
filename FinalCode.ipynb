{
  "nbformat": 4,
  "nbformat_minor": 0,
  "metadata": {
    "colab": {
      "name": "FinalCode.ipynb",
      "version": "0.3.2",
      "provenance": [],
      "private_outputs": true,
      "collapsed_sections": []
    },
    "kernelspec": {
      "name": "python3",
      "display_name": "Python 3"
    },
    "accelerator": "GPU"
  },
  "cells": [
    {
      "metadata": {
        "id": "Ss8qQMI7CDzu",
        "colab_type": "code",
        "colab": {}
      },
      "cell_type": "code",
      "source": [
        "!apt-get install -y -qq software-properties-common python-software-properties module-init-tools\n",
        "!add-apt-repository -y ppa:alessandro-strada/ppa 2>&1 > /dev/null\n",
        "!apt-get update -qq 2>&1 > /dev/null\n",
        "!apt-get -y install -qq google-drive-ocamlfuse fuse\n",
        "from google.colab import auth\n",
        "auth.authenticate_user()\n",
        "from oauth2client.client import GoogleCredentials\n",
        "creds = GoogleCredentials.get_application_default() \n",
        "import getpass\n",
        "!google-drive-ocamlfuse -headless -id={creds.client_id} -secret={creds.client_secret} < /dev/null 2>&1 | grep URL\n",
        "vcode = getpass.getpass()\n",
        "!echo {vcode} | google-drive-ocamlfuse -headless -id={creds.client_id} -secret={creds.client_secret}"
      ],
      "execution_count": 0,
      "outputs": []
    },
    {
      "metadata": {
        "id": "eG49JrbmCLkh",
        "colab_type": "code",
        "colab": {}
      },
      "cell_type": "code",
      "source": [
        "!mkdir -p drive\n",
        "!google-drive-ocamlfuse drive"
      ],
      "execution_count": 0,
      "outputs": []
    },
    {
      "metadata": {
        "id": "zElXUf3LCQal",
        "colab_type": "code",
        "colab": {}
      },
      "cell_type": "code",
      "source": [
        "import os\n",
        "os.chdir('drive/brat')"
      ],
      "execution_count": 0,
      "outputs": []
    },
    {
      "metadata": {
        "id": "AgKwRmWGCUGe",
        "colab_type": "code",
        "colab": {}
      },
      "cell_type": "code",
      "source": [
        "!ls"
      ],
      "execution_count": 0,
      "outputs": []
    },
    {
      "metadata": {
        "id": "xsfVccLCCU0H",
        "colab_type": "code",
        "colab": {}
      },
      "cell_type": "code",
      "source": [
        "!pip3 install SimpleITK"
      ],
      "execution_count": 0,
      "outputs": []
    },
    {
      "metadata": {
        "id": "mtOVvsPnC3Us",
        "colab_type": "code",
        "colab": {}
      },
      "cell_type": "code",
      "source": [
        "import SimpleITK as sitk\n",
        "import numpy as np"
      ],
      "execution_count": 0,
      "outputs": []
    },
    {
      "metadata": {
        "id": "C_4Knj5tDcqp",
        "colab_type": "text"
      },
      "cell_type": "markdown",
      "source": [
        "Data Visualisations"
      ]
    },
    {
      "metadata": {
        "id": "8jouFNsLC6ON",
        "colab_type": "code",
        "colab": {}
      },
      "cell_type": "code",
      "source": [
        "import os\n",
        "path = 'HG/0001'\n",
        "p = os.listdir(path)\n",
        "p.sort(key=str.lower)\n",
        "arr = []\n",
        "for i in range(len(p)):\n",
        "  if(i != 4):\n",
        "    p1 = os.listdir(path+'/'+p[i])\n",
        "    p1.sort()\n",
        "    img = sitk.ReadImage(path+'/'+p[i]+'/'+p1[-1])\n",
        "    arr.append(sitk.GetArrayFromImage(img))\n",
        "  else:\n",
        "    p1 = os.listdir(path+'/'+p[i])\n",
        "    img = sitk.ReadImage(path+'/'+p[i]+'/'+p1[0])\n",
        "    Y_labels = sitk.GetArrayFromImage(img) \n",
        "    print(Y_labels.shape)\n",
        "data = np.zeros((Y_labels.shape[1],Y_labels.shape[0],Y_labels.shape[2],4))\n",
        "for i in range(Y_labels.shape[1]):\n",
        "  data[i,:,:,0] = arr[0][:,i,:]\n",
        "  data[i,:,:,1] = arr[1][:,i,:]\n",
        "  data[i,:,:,2] = arr[2][:,i,:]\n",
        "  data[i,:,:,3] = arr[3][:,i,:]"
      ],
      "execution_count": 0,
      "outputs": []
    },
    {
      "metadata": {
        "id": "YF_sD99fDsMS",
        "colab_type": "code",
        "colab": {}
      },
      "cell_type": "code",
      "source": [
        "%pylab inline\n",
        "import matplotlib.pyplot as plt\n",
        "img = data[126,:,:,0]\n",
        "imgplot = plt.imshow(img)\n",
        "plt.show()\n",
        "plt.imsave('slice_126_4',img,cmap='gray')"
      ],
      "execution_count": 0,
      "outputs": []
    },
    {
      "metadata": {
        "id": "1CzZ3CRFFZcc",
        "colab_type": "code",
        "colab": {}
      },
      "cell_type": "code",
      "source": [
        "%pylab inline\n",
        "import matplotlib.pyplot as plt\n",
        "img = Y_labels[:,126,:]\n",
        "imgplot = plt.imshow(img)\n",
        "plt.show()\n",
        "#plt.imsave('slice_126_GT',img,cmap='gray')"
      ],
      "execution_count": 0,
      "outputs": []
    },
    {
      "metadata": {
        "id": "e_lf8FfWH6rp",
        "colab_type": "code",
        "colab": {}
      },
      "cell_type": "code",
      "source": [
        "def model_gen(input_dim,x,y,slice_no):\n",
        "  X1 = []\n",
        "  X2 = []\n",
        "  Y = []\n",
        "  \n",
        "  for i in range(int((input_dim)/2),y.shape[0]-int((input_dim)/2)):\n",
        "    for j in range(int((input_dim)/2),y.shape[2]-int((input_dim)/2)):\n",
        "      #Filtering all 0 patches\n",
        "      if(x[i-16:i+17,j-16:j+17,:].any != 0):\n",
        "        X2.append(x[i-16:i+17,j-16:j+17,:])\n",
        "        X1.append(x[i-int((input_dim)/2):i+int((input_dim)/2)+1,j-int((input_dim)/2):j+int((input_dim)/2)+1,:])\n",
        "        Y.append(y[i,slice_no,j])\n",
        "      \n",
        "      \n",
        "  X1 = np.asarray(X1)\n",
        "  X2 = np.asarray(X2)\n",
        "  Y = np.asarray(Y)\n",
        "  d = [X1,X2,Y]\n",
        "  return d"
      ],
      "execution_count": 0,
      "outputs": []
    },
    {
      "metadata": {
        "id": "UWtPN8gyImhA",
        "colab_type": "code",
        "colab": {}
      },
      "cell_type": "code",
      "source": [
        "def data_gen(data,y,slice_no,model_no):\n",
        "  d = []\n",
        "  x = data[slice_no]\n",
        "  #filtering all 0 slices and non-tumor slices\n",
        "  if(x.any() != 0 and y.any() != 0):\n",
        "    if(model_no == 0):\n",
        "      X1 = []\n",
        "      for i in range(16,159):\n",
        "        for j in range(16,199):\n",
        "          if(x[i-16:i+17,j-16:j+17,:].all != 0):\n",
        "            X1.append(x[i-16:i+17,j-16:j+17,:])\n",
        "      Y1 = []\n",
        "      for i in range(16,159):\n",
        "        for j in range(16,199):\n",
        "          if(x[i-16:i+17,j-16:j+17,:].all != 0):\n",
        "            Y1.append(y[i,slice_no,j]) \n",
        "      X1 = np.asarray(X1)\n",
        "      Y1 = np.asarray(Y1)\n",
        "      d = [X1,Y1]\n",
        "    elif(model_no == 1):\n",
        "      d = model_gen(65,x,y,slice_no)\n",
        "    elif(model_no == 2):\n",
        "      d = model_gen(56,x,y,slice_no)\n",
        "    elif(model_no == 3):\n",
        "      d = model_gen(53,x,y,slice_no)  \n",
        "    \n",
        "  return d   "
      ],
      "execution_count": 0,
      "outputs": []
    },
    {
      "metadata": {
        "id": "D2hFDjvtIqnZ",
        "colab_type": "text"
      },
      "cell_type": "markdown",
      "source": [
        "Model Definations"
      ]
    },
    {
      "metadata": {
        "id": "mC04RAU-rJsx",
        "colab_type": "code",
        "colab": {}
      },
      "cell_type": "code",
      "source": [
        "import keras"
      ],
      "execution_count": 0,
      "outputs": []
    },
    {
      "metadata": {
        "id": "9RoFhcIyIovB",
        "colab_type": "code",
        "colab": {}
      },
      "cell_type": "code",
      "source": [
        "import keras\n",
        "from keras import layers\n",
        "from keras.layers import Input, Dense, Activation, ZeroPadding2D, BatchNormalization, Flatten, Conv2D, Lambda,Concatenate\n",
        "from keras.layers import AveragePooling2D, MaxPooling2D, Dropout, GlobalMaxPooling2D, GlobalAveragePooling2D, Add\n",
        "from keras.models import Model\n",
        "from keras import regularizers\n",
        "from keras.preprocessing import image\n",
        "from keras.utils import layer_utils\n",
        "from keras.utils.data_utils import get_file\n",
        "from keras.applications.imagenet_utils import preprocess_input\n",
        "from keras.initializers import glorot_normal\n",
        "#import pydot\n",
        "from IPython.display import SVG\n",
        "from keras.utils.vis_utils import model_to_dot\n",
        "from keras.utils import plot_model"
      ],
      "execution_count": 0,
      "outputs": []
    },
    {
      "metadata": {
        "id": "dnfO8pP3IxRZ",
        "colab_type": "code",
        "colab": {}
      },
      "cell_type": "code",
      "source": [
        "def two_path(X_input):\n",
        "  # Local path Conv1\n",
        "  X = Conv2D(64,(7,7),strides=(1,1),padding='valid')(X_input)\n",
        "  # Batch-norm\n",
        "  X = BatchNormalization()(X)\n",
        "  X1 = Conv2D(64,(7,7),strides=(1,1),padding='valid')(X_input)\n",
        "  X1 = BatchNormalization()(X1)\n",
        "  # Max-out\n",
        "  X = layers.Maximum()([X,X1])\n",
        "  X = Conv2D(64,(4,4),strides=(1,1),padding='valid',activation='relu')(X)\n",
        "  \n",
        "  # Global path\n",
        "  X2 = Conv2D(160,(13,13),strides=(1,1),padding='valid')(X_input)\n",
        "  X2 = BatchNormalization()(X2)\n",
        "  X21 = Conv2D(160,(13,13),strides=(1,1),padding='valid')(X_input)\n",
        "  X21 = BatchNormalization()(X21)\n",
        "  # Max-out\n",
        "  X2 = layers.Maximum()([X2,X21])\n",
        "  \n",
        "  # Local path Conv2\n",
        "  X3 = Conv2D(64,(3,3),strides=(1,1),padding='valid')(X)\n",
        "  X3 = BatchNormalization()(X3)\n",
        "  X31 =  Conv2D(64,(3,3),strides=(1,1),padding='valid')(X)\n",
        "  X31 = BatchNormalization()(X31)\n",
        "  X = layers.Maximum()([X3,X31])\n",
        "  X = Conv2D(64,(2,2),strides=(1,1),padding='valid',activation='relu')(X)\n",
        "  \n",
        "  # Merging the two paths\n",
        "  X = Concatenate()([X2,X])\n",
        "  #X = Conv2D(5,(21,21),strides=(1,1))(X)\n",
        "  #X = Activation('softmax')(X)\n",
        "  \n",
        "  #model = Model(inputs = X_input, outputs = X)\n",
        "  return X"
      ],
      "execution_count": 0,
      "outputs": []
    },
    {
      "metadata": {
        "id": "SaclX3B4I5e8",
        "colab_type": "code",
        "colab": {}
      },
      "cell_type": "code",
      "source": [
        "def input_cascade(input_shape1,input_shape2):\n",
        "  \n",
        "  X1_input = Input(input_shape1)\n",
        "  # 1st two-path of cascade\n",
        "  X1 = two_path(X1_input)\n",
        "  X1 = Conv2D(5,(21,21),strides=(1,1),padding='valid',activation='relu')(X1)\n",
        "  X1 = BatchNormalization()(X1)\n",
        "  \n",
        "  X2_input = Input(input_shape2)\n",
        "  # Concatenating the output of 1st to input of 2nd\n",
        "  X2_input1 = Concatenate()([X1,X2_input])\n",
        "  #X2_input1 = Input(tensor = X2_input1)\n",
        "  X2 = two_path(X2_input1)\n",
        "  # Fully convolutional softmax classification\n",
        "  X2 = Conv2D(5,(21,21),strides=(1,1),padding='valid')(X2)\n",
        "  X2 = BatchNormalization()(X2)\n",
        "  X2 = Activation('softmax')(X2)\n",
        "  \n",
        "  model = Model(inputs=[X1_input,X2_input],outputs=X2)\n",
        "  return model\n",
        "  "
      ],
      "execution_count": 0,
      "outputs": []
    },
    {
      "metadata": {
        "id": "gl0YpjrhI6QU",
        "colab_type": "code",
        "colab": {}
      },
      "cell_type": "code",
      "source": [
        "def MFCcascade(input_shape1,input_shape2):\n",
        "  \n",
        "  # 1st two-path\n",
        "  X1_input = Input(input_shape1)\n",
        "  X1 = two_path(X1_input)\n",
        "  X1 = Conv2D(5,(21,21),strides=(1,1),padding='valid',activation='relu')(X1)\n",
        "  X1 = BatchNormalization()(X1)\n",
        "  #X1 = MaxPooling2D((2,2))(X1)\n",
        "  \n",
        "  #2nd two-path \n",
        "  X2_input = Input(input_shape2)\n",
        "  X2 = two_path(X2_input)\n",
        "  \n",
        "  # Concatenate before classification\n",
        "  X2 = Concatenate()([X1,X2])\n",
        "  X2 = Conv2D(5,(21,21),strides=(1,1),padding='valid',activation='relu')(X2)\n",
        "  X2 = BatchNormalization()(X2)\n",
        "  X2 = Activation('softmax')(X2)\n",
        "  \n",
        "  model = Model(inputs=[X1_input,X2_input],outputs=X2)\n",
        "  return model\n",
        "  "
      ],
      "execution_count": 0,
      "outputs": []
    },
    {
      "metadata": {
        "id": "vhQlYq3Ojdvu",
        "colab_type": "code",
        "colab": {}
      },
      "cell_type": "code",
      "source": [
        "def two_pathcnn(input_shape):\n",
        "  \n",
        "  X_input = Input(input_shape)\n",
        "  \n",
        "  X = Conv2D(64,(7,7),strides=(1,1),padding='valid')(X_input)\n",
        "  X = BatchNormalization()(X)\n",
        "  X1 = Conv2D(64,(7,7),strides=(1,1),padding='valid')(X_input)\n",
        "  X1 = BatchNormalization()(X1)\n",
        "  X = layers.Maximum()([X,X1])\n",
        "  X = Conv2D(64,(4,4),strides=(1,1),padding='valid',activation='relu')(X)\n",
        "  \n",
        "  X2 = Conv2D(160,(13,13),strides=(1,1),padding='valid')(X_input)\n",
        "  X2 = BatchNormalization()(X2)\n",
        "  X21 = Conv2D(160,(13,13),strides=(1,1),padding='valid')(X_input)\n",
        "  X21 = BatchNormalization()(X21)\n",
        "  X2 = layers.Maximum()([X2,X21])\n",
        "  \n",
        "  X3 = Conv2D(64,(3,3),strides=(1,1),padding='valid')(X)\n",
        "  X3 = BatchNormalization()(X3)\n",
        "  X31 =  Conv2D(64,(3,3),strides=(1,1),padding='valid')(X)\n",
        "  X31 = BatchNormalization()(X31)\n",
        "  X = layers.Maximum()([X3,X31])\n",
        "  X = Conv2D(64,(2,2),strides=(1,1),padding='valid',activation='relu')(X)\n",
        "  \n",
        "  X = Concatenate()([X2,X])\n",
        "  X = Conv2D(5,(21,21),strides=(1,1),padding='valid')(X)\n",
        "  X = Activation('softmax')(X)\n",
        "  \n",
        "  model = Model(inputs = X_input, outputs = X)\n",
        "  return model "
      ],
      "execution_count": 0,
      "outputs": []
    },
    {
      "metadata": {
        "id": "f1wniC4jjhbe",
        "colab_type": "code",
        "colab": {}
      },
      "cell_type": "code",
      "source": [
        "m0 = two_pathcnn((33,33,4))\n",
        "m0.summary()"
      ],
      "execution_count": 0,
      "outputs": []
    },
    {
      "metadata": {
        "id": "R1fVPzaOI8lL",
        "colab_type": "code",
        "colab": {}
      },
      "cell_type": "code",
      "source": [
        "m1 = MFCcascade((53,53,4),(33,33,4))\n",
        "m1.summary()"
      ],
      "execution_count": 0,
      "outputs": []
    },
    {
      "metadata": {
        "id": "eLgC18wqJAFi",
        "colab_type": "code",
        "colab": {}
      },
      "cell_type": "code",
      "source": [
        "m1 = input_cascade((65,65,4),(33,33,4))\n",
        "m1.summary()"
      ],
      "execution_count": 0,
      "outputs": []
    },
    {
      "metadata": {
        "id": "UW2ETYf1JIT4",
        "colab_type": "text"
      },
      "cell_type": "markdown",
      "source": [
        "Training the architectures"
      ]
    },
    {
      "metadata": {
        "id": "VMOzNLPrJE8n",
        "colab_type": "code",
        "colab": {}
      },
      "cell_type": "code",
      "source": [
        "from sklearn.utils import class_weight"
      ],
      "execution_count": 0,
      "outputs": []
    },
    {
      "metadata": {
        "id": "s1WA0h4fJPeI",
        "colab_type": "code",
        "colab": {}
      },
      "cell_type": "code",
      "source": [
        "m1 = keras.models.load_model('trial_0001_input_cascasde_acc.h5')"
      ],
      "execution_count": 0,
      "outputs": []
    },
    {
      "metadata": {
        "id": "mcHSBKCdiAqW",
        "colab_type": "text"
      },
      "cell_type": "markdown",
      "source": [
        "Training for the InputCascadeCNN model"
      ]
    },
    {
      "metadata": {
        "id": "HCh_e-WQJWAX",
        "colab_type": "code",
        "colab": {}
      },
      "cell_type": "code",
      "source": [
        "fold = os.listdir('HG/')\n",
        "fold.sort(key=str.lower) \n",
        "\n",
        "for path in fold:\n",
        "    print(path)\n",
        "    path = 'HG/'+path\n",
        "    p = os.listdir(path)\n",
        "    p.sort(key=str.lower)\n",
        "    arr = []\n",
        "    \n",
        "    # Reading from 4 images and creating 4 channel slice-wise \n",
        "    for i in range(len(p)):\n",
        "      if(i != 4):\n",
        "        p1 = os.listdir(path+'/'+p[i])\n",
        "        p1.sort()\n",
        "        img = sitk.ReadImage(path+'/'+p[i]+'/'+p1[-1])\n",
        "        arr.append(sitk.GetArrayFromImage(img))\n",
        "      else:\n",
        "        p1 = os.listdir(path+'/'+p[i])\n",
        "        img = sitk.ReadImage(path+'/'+p[i]+'/'+p1[0])\n",
        "        Y_labels = sitk.GetArrayFromImage(img)\n",
        "    data = np.zeros((Y_labels.shape[1],Y_labels.shape[0],Y_labels.shape[2],4))\n",
        "    for i in range(Y_labels.shape[1]):\n",
        "      data[i,:,:,0] = arr[0][:,i,:]\n",
        "      data[i,:,:,1] = arr[1][:,i,:]\n",
        "      data[i,:,:,2] = arr[2][:,i,:]\n",
        "      data[i,:,:,3] = arr[3][:,i,:]\n",
        "    print(data.shape)\n",
        "    info = []\n",
        "    \n",
        "    # Creating patches for each slice and training(slice-wise)\n",
        "    for i in range(data.shape[0]):\n",
        "      d = data_gen(data,Y_labels,i,1)\n",
        "      if(len(d) != 0):\n",
        "        y = np.zeros((d[2].shape[0],1,1,5))\n",
        "        for j in range(y.shape[0]):\n",
        "          y[j,:,:,d[2][j]] = 1\n",
        "        X1 = d[0]\n",
        "        X2 = d[1]\n",
        "        class_weights = class_weight.compute_class_weight('balanced',\n",
        "                                                          np.unique(d[2]),\n",
        "                                                          d[2])\n",
        "        print('slice no:'+str(i))\n",
        "        info.append(m1.fit([X1,X2],y,epochs=5,batch_size=128,class_weight= class_weights))\n",
        "        m1.save('trial_0001_input_cascasde_acc.h5')\n"
      ],
      "execution_count": 0,
      "outputs": []
    },
    {
      "metadata": {
        "id": "hvl-uvjA67nS",
        "colab_type": "text"
      },
      "cell_type": "markdown",
      "source": [
        "Testing"
      ]
    },
    {
      "metadata": {
        "id": "aQBXB0Bn8LFK",
        "colab_type": "code",
        "colab": {}
      },
      "cell_type": "code",
      "source": [
        "model = keras.models.load_model('trial_0001_input_cascasde_acc.h5')"
      ],
      "execution_count": 0,
      "outputs": []
    },
    {
      "metadata": {
        "id": "bPg1k-1o6_xQ",
        "colab_type": "code",
        "colab": {}
      },
      "cell_type": "code",
      "source": [
        "  path = 'HG/0027'\n",
        "  p = os.listdir(path)\n",
        "  p.sort(key=str.lower)\n",
        "  arr = []\n",
        "  for i in range(len(p)):\n",
        "    if(i != 4):\n",
        "      p1 = os.listdir(path+'/'+p[i])\n",
        "      p1.sort()\n",
        "      img = sitk.ReadImage(path+'/'+p[i]+'/'+p1[-1])\n",
        "      arr.append(sitk.GetArrayFromImage(img))\n",
        "    else:\n",
        "      p1 = os.listdir(path+'/'+p[i])\n",
        "      img = sitk.ReadImage(path+'/'+p[i]+'/'+p1[0])\n",
        "      Y_labels = sitk.GetArrayFromImage(img)    \n",
        "  data = np.zeros((Y_labels.shape[1],Y_labels.shape[0],Y_labels.shape[2],4))\n",
        "  for i in range(Y_labels.shape[1]):\n",
        "    data[i,:,:,0] = arr[0][:,i,:]\n",
        "    data[i,:,:,1] = arr[1][:,i,:]\n",
        "    data[i,:,:,2] = arr[2][:,i,:]\n",
        "    data[i,:,:,3] = arr[3][:,i,:]\n",
        "  info = []\n",
        " \n",
        "    \n",
        "  d = data_gen(data,Y_labels,113,3)\n",
        "  if(len(d) != 0):\n",
        "    y = np.zeros((d[2].shape[0],1,1,5))\n",
        "    for j in range(y.shape[0]):\n",
        "      y[j,:,:,d[2][j]] = 1\n",
        "    X1 = d[0]\n",
        "    X2 = d[1]\n",
        "    pred = model1.predict([X1,X2],batch_size = 256) \n",
        "    pred = np.around(pred)\n",
        "    #print(pred.shape)\n",
        "    pred1 = np.argmax(pred.reshape(y.shape[0],5)[:,1:4],axis = 1)\n",
        "    y2 = np.argmax(y.reshape(y.shape[0],5)[:,1:4],axis = 1)\n",
        "    f1 = metrics.f1_score(y2,pred1,average='micro')\n",
        "    print(f1)"
      ],
      "execution_count": 0,
      "outputs": []
    },
    {
      "metadata": {
        "id": "Mo2zV30v69EP",
        "colab_type": "code",
        "colab": {}
      },
      "cell_type": "code",
      "source": [
        "pred = model.predict([X1,X2],batch_size = 256)"
      ],
      "execution_count": 0,
      "outputs": []
    },
    {
      "metadata": {
        "id": "6L0zsHc7Jt1d",
        "colab_type": "code",
        "colab": {}
      },
      "cell_type": "code",
      "source": [
        "pred = np.around(pred)\n",
        "print(pred.shape)\n",
        "pred1 = np.argmax(pred.reshape(y.shape[0],5)[:,1:4],axis = 1)\n",
        "y2 = np.argmax(y.reshape(y.shape[0],5)[:,1:4],axis = 1)"
      ],
      "execution_count": 0,
      "outputs": []
    },
    {
      "metadata": {
        "id": "2nEwEX3s7z2w",
        "colab_type": "code",
        "colab": {}
      },
      "cell_type": "code",
      "source": [
        "from sklearn import metrics"
      ],
      "execution_count": 0,
      "outputs": []
    },
    {
      "metadata": {
        "id": "wLNqgyHt7u3A",
        "colab_type": "code",
        "colab": {}
      },
      "cell_type": "code",
      "source": [
        "f1 = metrics.f1_score(y2,pred1,average='micro')\n",
        "f1"
      ],
      "execution_count": 0,
      "outputs": []
    },
    {
      "metadata": {
        "id": "KjFQkJy8-7LQ",
        "colab_type": "code",
        "colab": {}
      },
      "cell_type": "code",
      "source": [
        "model1 = keras.models.load_model('trial_MFCcascade_acc.h5')"
      ],
      "execution_count": 0,
      "outputs": []
    },
    {
      "metadata": {
        "id": "Hd08lzus-5u4",
        "colab_type": "code",
        "colab": {}
      },
      "cell_type": "code",
      "source": [
        "pred2 = model1.predict([X1,X2],batch_size = 256)\n"
      ],
      "execution_count": 0,
      "outputs": []
    },
    {
      "metadata": {
        "id": "Tg44hHMbdntD",
        "colab_type": "code",
        "colab": {}
      },
      "cell_type": "code",
      "source": [
        "pred2 = np.around(pred2)\n",
        "pred3 = np.argmax(pred2.reshape(y.shape[0],5)[:,1:4],axis = 1)\n",
        "y2 = np.argmax(y.reshape(y.shape[0],5)[:,1:4],axis = 1)"
      ],
      "execution_count": 0,
      "outputs": []
    },
    {
      "metadata": {
        "id": "VKrjYzv1_Nef",
        "colab_type": "code",
        "colab": {}
      },
      "cell_type": "code",
      "source": [
        "f1 = metrics.f1_score(y2,pred3,average='micro')\n",
        "f1"
      ],
      "execution_count": 0,
      "outputs": []
    },
    {
      "metadata": {
        "id": "buksOE6F_qev",
        "colab_type": "code",
        "colab": {}
      },
      "cell_type": "code",
      "source": [
        ""
      ],
      "execution_count": 0,
      "outputs": []
    }
  ]
}